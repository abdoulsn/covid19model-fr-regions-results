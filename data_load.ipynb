{
 "cells": [
  {
   "cell_type": "code",
   "execution_count": 8,
   "metadata": {},
   "outputs": [],
   "source": [
    "%load_ext autoreload"
   ]
  },
  {
   "cell_type": "code",
   "execution_count": 9,
   "metadata": {},
   "outputs": [],
   "source": [
    "%autoreload 2"
   ]
  },
  {
   "cell_type": "code",
   "execution_count": 5,
   "metadata": {},
   "outputs": [],
   "source": [
    "import os\n",
    "from pathlib import Path\n",
    "\n",
    "import pandas as pd\n",
    "import numpy as np\n",
    "from matplotlib import pyplot as plt"
   ]
  },
  {
   "cell_type": "code",
   "execution_count": null,
   "metadata": {},
   "outputs": [],
   "source": [
    "def read_run_folder(run_folder):\n",
    "    return None"
   ]
  },
  {
   "cell_type": "code",
   "execution_count": null,
   "metadata": {},
   "outputs": [],
   "source": [
    "def plot_run_folder(run_folder_df):\n",
    "    return None"
   ]
  },
  {
   "cell_type": "code",
   "execution_count": 11,
   "metadata": {},
   "outputs": [
    {
     "output_type": "execute_result",
     "data": {
      "text/plain": "                                          folder version last available data  \\\n0   ./runs/base-fullrun-20200428T002523-3665610       v3         2020-03-24    \n1   ./runs/base-fullrun-20200423T024310-3636909       v2         2020-03-24    \n2   ./runs/base-fullrun-20200423T191520-3638433       v2         2020-03-24    \n3   ./runs/base-fullrun-20200428T002438-3665609       v3         2020-03-24    \n4   ./runs/base-fullrun-20200423T193320-3638456       v2         2020-03-24    \n5   ./runs/base-fullrun-20200428T002533-3665610       v3         2020-04-01    \n6   ./runs/base-fullrun-20200424T082058-3641029       v2         2020-04-01    \n7   ./runs/base-fullrun-20200428T002453-3665609       v3         2020-04-01    \n8   ./runs/base-fullrun-20200423T193324-3638456       v2         2020-04-01    \n9   ./runs/base-fullrun-20200428T002548-3665610       v3         2020-04-05    \n10  ./runs/base-fullrun-20200424T082105-3641029       v2         2020-04-05    \n11  ./runs/base-fullrun-20200428T002509-3665609       v3         2020-04-05    \n12  ./runs/base-fullrun-20200428T002604-3665610       v3         2020-04-10    \n13  ./runs/base-fullrun-20200424T082116-3641029       v2         2020-04-10    \n14  ./runs/base-fullrun-20200426T002350-3657632       v2         2020-04-10    \n15  ./runs/base-fullrun-20200428T002524-3665609       v3         2020-04-10    \n16  ./runs/base-fullrun-20200415T200000-1366540       v2         2020-04-13    \n17   ./runs/base-fullrun-20200416T224705-844325       v2         2020-04-15    \n18   ./runs/base-fullrun-20200418T003711-932055       v2         2020-04-16    \n19  ./runs/base-fullrun-20200424T082126-3641029       v2         2020-04-18    \n20   ./runs/base-fullrun-20200419T095119-660815       v2         2020-04-18    \n21  ./runs/base-fullrun-20200428T002447-3665611       v3         2020-04-20    \n22  ./runs/base-fullrun-20200424T082137-3641029       v2         2020-04-20    \n23  ./runs/base-fullrun-20200426T002359-3657632       v2         2020-04-20    \n24  ./runs/base-fullrun-20200428T002513-3665611       v3         2020-04-20    \n25   ./runs/base-fullrun-20200420T231705-568055       v2         2020-04-20    \n26  ./runs/base-fullrun-20200428T002457-3665611       v3         2020-04-22    \n27  ./runs/base-fullrun-20200424T082148-3641029       v2         2020-04-22    \n28  ./runs/base-fullrun-20200426T002416-3657632       v2         2020-04-22    \n29  ./runs/base-fullrun-20200428T002528-3665611       v3         2020-04-22    \n30  ./runs/base-fullrun-20200426T002431-3657632       v2         2020-04-23    \n31  ./runs/base-fullrun-20200426T002447-3657632       v2         2020-04-23    \n32  ./runs/base-fullrun-20200428T002544-3665611       v3         2020-04-25    \n\n    number of countries  number of zones  \\\n0                     1               11   \n1                     1               15   \n2                     1               15   \n3                    13               23   \n4                    13               27   \n5                     1               13   \n6                     1               17   \n7                    14               26   \n8                    14               30   \n9                     1               13   \n10                    1               17   \n11                   14               26   \n12                    1               13   \n13                    1               17   \n14                    1               17   \n15                   14               26   \n16                    1               16   \n17                   14               29   \n18                   14               14   \n19                    1               17   \n20                   14               30   \n21                    1               13   \n22                    1               17   \n23                    1               17   \n24                   14               26   \n25                   14               30   \n26                    1               13   \n27                    1               17   \n28                    1               17   \n29                   14               26   \n30                    1               17   \n31                   14               30   \n32                   14               26   \n\n                                            countries  \\\n0                                    {'France': True}   \n1                                    {'France': True}   \n2                                    {'France': True}   \n3   {'Austria': True, 'Belgium': True, 'Denmark': ...   \n4   {'Austria': True, 'Belgium': True, 'Denmark': ...   \n5                                    {'France': True}   \n6                                    {'France': True}   \n7   {'Austria': True, 'Belgium': True, 'Denmark': ...   \n8   {'Austria': True, 'Belgium': True, 'Denmark': ...   \n9                                    {'France': True}   \n10                                   {'France': True}   \n11  {'Austria': True, 'Belgium': True, 'Denmark': ...   \n12                                   {'France': True}   \n13                                   {'France': True}   \n14                                   {'France': True}   \n15  {'Austria': True, 'Belgium': True, 'Denmark': ...   \n16                                   {'France': True}   \n17  {'Austria': True, 'Belgium': True, 'Denmark': ...   \n18  {'Austria': True, 'Belgium': True, 'Denmark': ...   \n19                                   {'France': True}   \n20  {'Austria': True, 'Belgium': True, 'Denmark': ...   \n21                                   {'France': True}   \n22                                   {'France': True}   \n23                                   {'France': True}   \n24  {'Austria': True, 'Belgium': True, 'Denmark': ...   \n25  {'Austria': True, 'Belgium': True, 'Denmark': ...   \n26                                   {'France': True}   \n27                                   {'France': True}   \n28                                   {'France': True}   \n29  {'Austria': True, 'Belgium': True, 'Denmark': ...   \n30                                   {'France': True}   \n31  {'Austria': True, 'Belgium': True, 'Denmark': ...   \n32  {'Austria': True, 'Belgium': True, 'Denmark': ...   \n\n                                      modelling zones     \n0   {'Bretagne': True, 'Corse': True, 'France': Tr...     \n1   {'Auvergne-Rhône-Alpes': True, 'Bourgogne-Fran...     \n2   {'Auvergne-Rhône-Alpes': True, 'Bourgogne-Fran...     \n3   {'Austria': True, 'Belgium': True, 'Bretagne':...     \n4   {'Austria': True, 'Auvergne-Rhône-Alpes': True...     \n5   {'Bretagne': True, 'Centre-Val de Loire': True...     \n6   {'Auvergne-Rhône-Alpes': True, 'Bourgogne-Fran...     \n7   {'Austria': True, 'Belgium': True, 'Bretagne':...     \n8   {'Austria': True, 'Auvergne-Rhône-Alpes': True...     \n9   {'Bretagne': True, 'Centre-Val de Loire': True...     \n10  {'Auvergne-Rhône-Alpes': True, 'Bourgogne-Fran...     \n11  {'Austria': True, 'Belgium': True, 'Bretagne':...     \n12  {'Bretagne': True, 'Centre-Val de Loire': True...     \n13  {'Auvergne-Rhône-Alpes': True, 'Bourgogne-Fran...     \n14  {'Auvergne-Rhône-Alpes': True, 'Bourgogne-Fran...     \n15  {'Austria': True, 'Belgium': True, 'Bretagne':...     \n16  {'Auvergne-Rhône-Alpes': True, 'Bourgogne-Fran...     \n17  {'Austria': True, 'Auvergne-Rhône-Alpes': True...     \n18  {'Austria': True, 'Belgium': True, 'Denmark': ...     \n19  {'Auvergne-Rhône-Alpes': True, 'Bourgogne-Fran...     \n20  {'Austria': True, 'Auvergne-Rhône-Alpes': True...     \n21  {'Bretagne': True, 'Centre-Val de Loire': True...     \n22  {'Auvergne-Rhône-Alpes': True, 'Bourgogne-Fran...     \n23  {'Auvergne-Rhône-Alpes': True, 'Bourgogne-Fran...     \n24  {'Austria': True, 'Belgium': True, 'Bretagne':...     \n25  {'Austria': True, 'Auvergne-Rhône-Alpes': True...     \n26  {'Bretagne': True, 'Centre-Val de Loire': True...     \n27  {'Auvergne-Rhône-Alpes': True, 'Bourgogne-Fran...     \n28  {'Auvergne-Rhône-Alpes': True, 'Bourgogne-Fran...     \n29  {'Austria': True, 'Belgium': True, 'Bretagne':...     \n30  {'Auvergne-Rhône-Alpes': True, 'Bourgogne-Fran...     \n31  {'Austria': True, 'Auvergne-Rhône-Alpes': True...     \n32  {'Austria': True, 'Belgium': True, 'Bretagne':...     ",
      "text/html": "<div>\n<style scoped>\n    .dataframe tbody tr th:only-of-type {\n        vertical-align: middle;\n    }\n\n    .dataframe tbody tr th {\n        vertical-align: top;\n    }\n\n    .dataframe thead th {\n        text-align: right;\n    }\n</style>\n<table border=\"1\" class=\"dataframe\">\n  <thead>\n    <tr style=\"text-align: right;\">\n      <th></th>\n      <th>folder</th>\n      <th>version</th>\n      <th>last available data</th>\n      <th>number of countries</th>\n      <th>number of zones</th>\n      <th>countries</th>\n      <th>modelling zones</th>\n      <th></th>\n    </tr>\n  </thead>\n  <tbody>\n    <tr>\n      <td>0</td>\n      <td>./runs/base-fullrun-20200428T002523-3665610</td>\n      <td>v3</td>\n      <td>2020-03-24</td>\n      <td>1</td>\n      <td>11</td>\n      <td>{'France': True}</td>\n      <td>{'Bretagne': True, 'Corse': True, 'France': Tr...</td>\n      <td></td>\n    </tr>\n    <tr>\n      <td>1</td>\n      <td>./runs/base-fullrun-20200423T024310-3636909</td>\n      <td>v2</td>\n      <td>2020-03-24</td>\n      <td>1</td>\n      <td>15</td>\n      <td>{'France': True}</td>\n      <td>{'Auvergne-Rhône-Alpes': True, 'Bourgogne-Fran...</td>\n      <td></td>\n    </tr>\n    <tr>\n      <td>2</td>\n      <td>./runs/base-fullrun-20200423T191520-3638433</td>\n      <td>v2</td>\n      <td>2020-03-24</td>\n      <td>1</td>\n      <td>15</td>\n      <td>{'France': True}</td>\n      <td>{'Auvergne-Rhône-Alpes': True, 'Bourgogne-Fran...</td>\n      <td></td>\n    </tr>\n    <tr>\n      <td>3</td>\n      <td>./runs/base-fullrun-20200428T002438-3665609</td>\n      <td>v3</td>\n      <td>2020-03-24</td>\n      <td>13</td>\n      <td>23</td>\n      <td>{'Austria': True, 'Belgium': True, 'Denmark': ...</td>\n      <td>{'Austria': True, 'Belgium': True, 'Bretagne':...</td>\n      <td></td>\n    </tr>\n    <tr>\n      <td>4</td>\n      <td>./runs/base-fullrun-20200423T193320-3638456</td>\n      <td>v2</td>\n      <td>2020-03-24</td>\n      <td>13</td>\n      <td>27</td>\n      <td>{'Austria': True, 'Belgium': True, 'Denmark': ...</td>\n      <td>{'Austria': True, 'Auvergne-Rhône-Alpes': True...</td>\n      <td></td>\n    </tr>\n    <tr>\n      <td>5</td>\n      <td>./runs/base-fullrun-20200428T002533-3665610</td>\n      <td>v3</td>\n      <td>2020-04-01</td>\n      <td>1</td>\n      <td>13</td>\n      <td>{'France': True}</td>\n      <td>{'Bretagne': True, 'Centre-Val de Loire': True...</td>\n      <td></td>\n    </tr>\n    <tr>\n      <td>6</td>\n      <td>./runs/base-fullrun-20200424T082058-3641029</td>\n      <td>v2</td>\n      <td>2020-04-01</td>\n      <td>1</td>\n      <td>17</td>\n      <td>{'France': True}</td>\n      <td>{'Auvergne-Rhône-Alpes': True, 'Bourgogne-Fran...</td>\n      <td></td>\n    </tr>\n    <tr>\n      <td>7</td>\n      <td>./runs/base-fullrun-20200428T002453-3665609</td>\n      <td>v3</td>\n      <td>2020-04-01</td>\n      <td>14</td>\n      <td>26</td>\n      <td>{'Austria': True, 'Belgium': True, 'Denmark': ...</td>\n      <td>{'Austria': True, 'Belgium': True, 'Bretagne':...</td>\n      <td></td>\n    </tr>\n    <tr>\n      <td>8</td>\n      <td>./runs/base-fullrun-20200423T193324-3638456</td>\n      <td>v2</td>\n      <td>2020-04-01</td>\n      <td>14</td>\n      <td>30</td>\n      <td>{'Austria': True, 'Belgium': True, 'Denmark': ...</td>\n      <td>{'Austria': True, 'Auvergne-Rhône-Alpes': True...</td>\n      <td></td>\n    </tr>\n    <tr>\n      <td>9</td>\n      <td>./runs/base-fullrun-20200428T002548-3665610</td>\n      <td>v3</td>\n      <td>2020-04-05</td>\n      <td>1</td>\n      <td>13</td>\n      <td>{'France': True}</td>\n      <td>{'Bretagne': True, 'Centre-Val de Loire': True...</td>\n      <td></td>\n    </tr>\n    <tr>\n      <td>10</td>\n      <td>./runs/base-fullrun-20200424T082105-3641029</td>\n      <td>v2</td>\n      <td>2020-04-05</td>\n      <td>1</td>\n      <td>17</td>\n      <td>{'France': True}</td>\n      <td>{'Auvergne-Rhône-Alpes': True, 'Bourgogne-Fran...</td>\n      <td></td>\n    </tr>\n    <tr>\n      <td>11</td>\n      <td>./runs/base-fullrun-20200428T002509-3665609</td>\n      <td>v3</td>\n      <td>2020-04-05</td>\n      <td>14</td>\n      <td>26</td>\n      <td>{'Austria': True, 'Belgium': True, 'Denmark': ...</td>\n      <td>{'Austria': True, 'Belgium': True, 'Bretagne':...</td>\n      <td></td>\n    </tr>\n    <tr>\n      <td>12</td>\n      <td>./runs/base-fullrun-20200428T002604-3665610</td>\n      <td>v3</td>\n      <td>2020-04-10</td>\n      <td>1</td>\n      <td>13</td>\n      <td>{'France': True}</td>\n      <td>{'Bretagne': True, 'Centre-Val de Loire': True...</td>\n      <td></td>\n    </tr>\n    <tr>\n      <td>13</td>\n      <td>./runs/base-fullrun-20200424T082116-3641029</td>\n      <td>v2</td>\n      <td>2020-04-10</td>\n      <td>1</td>\n      <td>17</td>\n      <td>{'France': True}</td>\n      <td>{'Auvergne-Rhône-Alpes': True, 'Bourgogne-Fran...</td>\n      <td></td>\n    </tr>\n    <tr>\n      <td>14</td>\n      <td>./runs/base-fullrun-20200426T002350-3657632</td>\n      <td>v2</td>\n      <td>2020-04-10</td>\n      <td>1</td>\n      <td>17</td>\n      <td>{'France': True}</td>\n      <td>{'Auvergne-Rhône-Alpes': True, 'Bourgogne-Fran...</td>\n      <td></td>\n    </tr>\n    <tr>\n      <td>15</td>\n      <td>./runs/base-fullrun-20200428T002524-3665609</td>\n      <td>v3</td>\n      <td>2020-04-10</td>\n      <td>14</td>\n      <td>26</td>\n      <td>{'Austria': True, 'Belgium': True, 'Denmark': ...</td>\n      <td>{'Austria': True, 'Belgium': True, 'Bretagne':...</td>\n      <td></td>\n    </tr>\n    <tr>\n      <td>16</td>\n      <td>./runs/base-fullrun-20200415T200000-1366540</td>\n      <td>v2</td>\n      <td>2020-04-13</td>\n      <td>1</td>\n      <td>16</td>\n      <td>{'France': True}</td>\n      <td>{'Auvergne-Rhône-Alpes': True, 'Bourgogne-Fran...</td>\n      <td></td>\n    </tr>\n    <tr>\n      <td>17</td>\n      <td>./runs/base-fullrun-20200416T224705-844325</td>\n      <td>v2</td>\n      <td>2020-04-15</td>\n      <td>14</td>\n      <td>29</td>\n      <td>{'Austria': True, 'Belgium': True, 'Denmark': ...</td>\n      <td>{'Austria': True, 'Auvergne-Rhône-Alpes': True...</td>\n      <td></td>\n    </tr>\n    <tr>\n      <td>18</td>\n      <td>./runs/base-fullrun-20200418T003711-932055</td>\n      <td>v2</td>\n      <td>2020-04-16</td>\n      <td>14</td>\n      <td>14</td>\n      <td>{'Austria': True, 'Belgium': True, 'Denmark': ...</td>\n      <td>{'Austria': True, 'Belgium': True, 'Denmark': ...</td>\n      <td></td>\n    </tr>\n    <tr>\n      <td>19</td>\n      <td>./runs/base-fullrun-20200424T082126-3641029</td>\n      <td>v2</td>\n      <td>2020-04-18</td>\n      <td>1</td>\n      <td>17</td>\n      <td>{'France': True}</td>\n      <td>{'Auvergne-Rhône-Alpes': True, 'Bourgogne-Fran...</td>\n      <td></td>\n    </tr>\n    <tr>\n      <td>20</td>\n      <td>./runs/base-fullrun-20200419T095119-660815</td>\n      <td>v2</td>\n      <td>2020-04-18</td>\n      <td>14</td>\n      <td>30</td>\n      <td>{'Austria': True, 'Belgium': True, 'Denmark': ...</td>\n      <td>{'Austria': True, 'Auvergne-Rhône-Alpes': True...</td>\n      <td></td>\n    </tr>\n    <tr>\n      <td>21</td>\n      <td>./runs/base-fullrun-20200428T002447-3665611</td>\n      <td>v3</td>\n      <td>2020-04-20</td>\n      <td>1</td>\n      <td>13</td>\n      <td>{'France': True}</td>\n      <td>{'Bretagne': True, 'Centre-Val de Loire': True...</td>\n      <td></td>\n    </tr>\n    <tr>\n      <td>22</td>\n      <td>./runs/base-fullrun-20200424T082137-3641029</td>\n      <td>v2</td>\n      <td>2020-04-20</td>\n      <td>1</td>\n      <td>17</td>\n      <td>{'France': True}</td>\n      <td>{'Auvergne-Rhône-Alpes': True, 'Bourgogne-Fran...</td>\n      <td></td>\n    </tr>\n    <tr>\n      <td>23</td>\n      <td>./runs/base-fullrun-20200426T002359-3657632</td>\n      <td>v2</td>\n      <td>2020-04-20</td>\n      <td>1</td>\n      <td>17</td>\n      <td>{'France': True}</td>\n      <td>{'Auvergne-Rhône-Alpes': True, 'Bourgogne-Fran...</td>\n      <td></td>\n    </tr>\n    <tr>\n      <td>24</td>\n      <td>./runs/base-fullrun-20200428T002513-3665611</td>\n      <td>v3</td>\n      <td>2020-04-20</td>\n      <td>14</td>\n      <td>26</td>\n      <td>{'Austria': True, 'Belgium': True, 'Denmark': ...</td>\n      <td>{'Austria': True, 'Belgium': True, 'Bretagne':...</td>\n      <td></td>\n    </tr>\n    <tr>\n      <td>25</td>\n      <td>./runs/base-fullrun-20200420T231705-568055</td>\n      <td>v2</td>\n      <td>2020-04-20</td>\n      <td>14</td>\n      <td>30</td>\n      <td>{'Austria': True, 'Belgium': True, 'Denmark': ...</td>\n      <td>{'Austria': True, 'Auvergne-Rhône-Alpes': True...</td>\n      <td></td>\n    </tr>\n    <tr>\n      <td>26</td>\n      <td>./runs/base-fullrun-20200428T002457-3665611</td>\n      <td>v3</td>\n      <td>2020-04-22</td>\n      <td>1</td>\n      <td>13</td>\n      <td>{'France': True}</td>\n      <td>{'Bretagne': True, 'Centre-Val de Loire': True...</td>\n      <td></td>\n    </tr>\n    <tr>\n      <td>27</td>\n      <td>./runs/base-fullrun-20200424T082148-3641029</td>\n      <td>v2</td>\n      <td>2020-04-22</td>\n      <td>1</td>\n      <td>17</td>\n      <td>{'France': True}</td>\n      <td>{'Auvergne-Rhône-Alpes': True, 'Bourgogne-Fran...</td>\n      <td></td>\n    </tr>\n    <tr>\n      <td>28</td>\n      <td>./runs/base-fullrun-20200426T002416-3657632</td>\n      <td>v2</td>\n      <td>2020-04-22</td>\n      <td>1</td>\n      <td>17</td>\n      <td>{'France': True}</td>\n      <td>{'Auvergne-Rhône-Alpes': True, 'Bourgogne-Fran...</td>\n      <td></td>\n    </tr>\n    <tr>\n      <td>29</td>\n      <td>./runs/base-fullrun-20200428T002528-3665611</td>\n      <td>v3</td>\n      <td>2020-04-22</td>\n      <td>14</td>\n      <td>26</td>\n      <td>{'Austria': True, 'Belgium': True, 'Denmark': ...</td>\n      <td>{'Austria': True, 'Belgium': True, 'Bretagne':...</td>\n      <td></td>\n    </tr>\n    <tr>\n      <td>30</td>\n      <td>./runs/base-fullrun-20200426T002431-3657632</td>\n      <td>v2</td>\n      <td>2020-04-23</td>\n      <td>1</td>\n      <td>17</td>\n      <td>{'France': True}</td>\n      <td>{'Auvergne-Rhône-Alpes': True, 'Bourgogne-Fran...</td>\n      <td></td>\n    </tr>\n    <tr>\n      <td>31</td>\n      <td>./runs/base-fullrun-20200426T002447-3657632</td>\n      <td>v2</td>\n      <td>2020-04-23</td>\n      <td>14</td>\n      <td>30</td>\n      <td>{'Austria': True, 'Belgium': True, 'Denmark': ...</td>\n      <td>{'Austria': True, 'Auvergne-Rhône-Alpes': True...</td>\n      <td></td>\n    </tr>\n    <tr>\n      <td>32</td>\n      <td>./runs/base-fullrun-20200428T002544-3665611</td>\n      <td>v3</td>\n      <td>2020-04-25</td>\n      <td>14</td>\n      <td>26</td>\n      <td>{'Austria': True, 'Belgium': True, 'Denmark': ...</td>\n      <td>{'Austria': True, 'Belgium': True, 'Bretagne':...</td>\n      <td></td>\n    </tr>\n  </tbody>\n</table>\n</div>"
     },
     "metadata": {},
     "execution_count": 11
    }
   ],
   "source": [
    "from model_analysis import * \n",
    "\n",
    "run_manifest = read_manifest('run-manifest.csv')\n",
    "run_manifest"
   ]
  },
  {
   "cell_type": "code",
   "execution_count": 78,
   "metadata": {},
   "outputs": [
    {
     "output_type": "execute_result",
     "data": {
      "text/plain": "{'interventions': WindowsPath('runs/base-fullrun-20200428T002544-3665611/base-fullrun-20200428T002544-3665611-base-intervention.csv'),\n 'modeling': WindowsPath('runs/base-fullrun-20200428T002544-3665611/base-fullrun-20200428T002544-3665611-base-plot.csv'),\n 'forecasting': WindowsPath('runs/base-fullrun-20200428T002544-3665611/base-fullrun-20200428T002544-3665611-forecast-data.csv'),\n 'ifr': WindowsPath('runs/base-fullrun-20200428T002544-3665611/base-fullrun-20200428T002544-3665611-inputs-active_regions_ifr.csv'),\n 'reprocution': WindowsPath('runs/base-fullrun-20200428T002544-3665611/base-fullrun-20200428T002544-3665611-final-Rt.csv'),\n 'NPI impact': WindowsPath('runs/base-fullrun-20200428T002544-3665611/base-fullrun-20200428T002544-3665611-covars-alpha-reduction.csv')}"
     },
     "metadata": {},
     "execution_count": 78
    }
   ],
   "source": [
    "run_directory = Path(\"./runs/base-fullrun-20200428T002544-3665611\")\n",
    "\n",
    "files_to_load = {\n",
    "    'interventions': 'base-intervention',\n",
    "    'modeling': 'base-plot',\n",
    "    'forecasting': 'forecast-data',\n",
    "    'ifr': 'inputs-active_regions_ifr',\n",
    "    'reprocution': 'final-Rt',\n",
    "    # 'mu': 'final-mu',\n",
    "    'NPI impact': 'covars-alpha-reduction',\n",
    "}\n",
    "run_directory = Path(run_directory)\n",
    "files = {}\n",
    "all_found = True\n",
    "for file_key in files_to_load:\n",
    "    files[file_key] = run_directory.joinpath(\n",
    "        run_directory.name + '-' + files_to_load[file_key] + '.csv'\n",
    "    )\n",
    "    # Checks that files exist\n",
    "    all_found &= files[file_key].is_file()\n",
    "    if not files[file_key].is_file():\n",
    "        print(f\"WARNING: csv corresponding to {file_key} could not be found\\n{file_path}\")\n",
    "\n",
    "if not all_found:\n",
    "    raise FileNotFoundError(\n",
    "        f\"One or more of the required csvs was not found in folder:\\n {run_directory}\"\n",
    "    )\n",
    "\n",
    "files"
   ]
  },
  {
   "cell_type": "code",
   "execution_count": 92,
   "metadata": {
    "tags": [
     "outputPrepend"
    ]
   },
   "outputs": [],
   "source": [
    "\n"
   ]
  },
  {
   "cell_type": "code",
   "execution_count": 12,
   "metadata": {},
   "outputs": [],
   "source": [
    "run_directory = Path(\"./runs/base-fullrun-20200428T002544-3665611\")\n",
    "mod = Model_Folder(run_directory)\n",
    "mod.load_data()"
   ]
  },
  {
   "cell_type": "code",
   "execution_count": 13,
   "metadata": {},
   "outputs": [
    {
     "output_type": "execute_result",
     "data": {
      "text/plain": "     Unnamed: 0                           key       value    x      country  \\\n0             1          schools_universities  2020-03-14  4.3       France   \n1             2         self_isolating_if_ill  2020-03-16  4.3       France   \n2             3                 public_events  2020-03-13  4.3       France   \n3             4                      lockdown  2020-03-17  4.3       France   \n4             5  social_distancing_encouraged  2020-03-16  4.0       France   \n..          ...                           ...         ...  ...          ...   \n125         126          schools_universities  2020-03-14  4.3  Netherlands   \n126         127         self_isolating_if_ill  2020-03-12  4.3  Netherlands   \n127         128                 public_events  2020-03-12  4.0  Netherlands   \n128         129                      lockdown  2020-03-23  4.3  Netherlands   \n129         130  social_distancing_encouraged  2020-03-12  3.7  Netherlands   \n\n          region  \n0       Bretagne  \n1       Bretagne  \n2       Bretagne  \n3       Bretagne  \n4       Bretagne  \n..           ...  \n125  Netherlands  \n126  Netherlands  \n127  Netherlands  \n128  Netherlands  \n129  Netherlands  \n\n[130 rows x 6 columns]",
      "text/html": "<div>\n<style scoped>\n    .dataframe tbody tr th:only-of-type {\n        vertical-align: middle;\n    }\n\n    .dataframe tbody tr th {\n        vertical-align: top;\n    }\n\n    .dataframe thead th {\n        text-align: right;\n    }\n</style>\n<table border=\"1\" class=\"dataframe\">\n  <thead>\n    <tr style=\"text-align: right;\">\n      <th></th>\n      <th>Unnamed: 0</th>\n      <th>key</th>\n      <th>value</th>\n      <th>x</th>\n      <th>country</th>\n      <th>region</th>\n    </tr>\n  </thead>\n  <tbody>\n    <tr>\n      <td>0</td>\n      <td>1</td>\n      <td>schools_universities</td>\n      <td>2020-03-14</td>\n      <td>4.3</td>\n      <td>France</td>\n      <td>Bretagne</td>\n    </tr>\n    <tr>\n      <td>1</td>\n      <td>2</td>\n      <td>self_isolating_if_ill</td>\n      <td>2020-03-16</td>\n      <td>4.3</td>\n      <td>France</td>\n      <td>Bretagne</td>\n    </tr>\n    <tr>\n      <td>2</td>\n      <td>3</td>\n      <td>public_events</td>\n      <td>2020-03-13</td>\n      <td>4.3</td>\n      <td>France</td>\n      <td>Bretagne</td>\n    </tr>\n    <tr>\n      <td>3</td>\n      <td>4</td>\n      <td>lockdown</td>\n      <td>2020-03-17</td>\n      <td>4.3</td>\n      <td>France</td>\n      <td>Bretagne</td>\n    </tr>\n    <tr>\n      <td>4</td>\n      <td>5</td>\n      <td>social_distancing_encouraged</td>\n      <td>2020-03-16</td>\n      <td>4.0</td>\n      <td>France</td>\n      <td>Bretagne</td>\n    </tr>\n    <tr>\n      <td>...</td>\n      <td>...</td>\n      <td>...</td>\n      <td>...</td>\n      <td>...</td>\n      <td>...</td>\n      <td>...</td>\n    </tr>\n    <tr>\n      <td>125</td>\n      <td>126</td>\n      <td>schools_universities</td>\n      <td>2020-03-14</td>\n      <td>4.3</td>\n      <td>Netherlands</td>\n      <td>Netherlands</td>\n    </tr>\n    <tr>\n      <td>126</td>\n      <td>127</td>\n      <td>self_isolating_if_ill</td>\n      <td>2020-03-12</td>\n      <td>4.3</td>\n      <td>Netherlands</td>\n      <td>Netherlands</td>\n    </tr>\n    <tr>\n      <td>127</td>\n      <td>128</td>\n      <td>public_events</td>\n      <td>2020-03-12</td>\n      <td>4.0</td>\n      <td>Netherlands</td>\n      <td>Netherlands</td>\n    </tr>\n    <tr>\n      <td>128</td>\n      <td>129</td>\n      <td>lockdown</td>\n      <td>2020-03-23</td>\n      <td>4.3</td>\n      <td>Netherlands</td>\n      <td>Netherlands</td>\n    </tr>\n    <tr>\n      <td>129</td>\n      <td>130</td>\n      <td>social_distancing_encouraged</td>\n      <td>2020-03-12</td>\n      <td>3.7</td>\n      <td>Netherlands</td>\n      <td>Netherlands</td>\n    </tr>\n  </tbody>\n</table>\n<p>130 rows × 6 columns</p>\n</div>"
     },
     "metadata": {},
     "execution_count": 13
    }
   ],
   "source": [
    "mod.data['interventions']"
   ]
  }
 ],
 "metadata": {
  "language_info": {
   "codemirror_mode": {
    "name": "ipython",
    "version": 3
   },
   "file_extension": ".py",
   "mimetype": "text/x-python",
   "name": "python",
   "nbconvert_exporter": "python",
   "pygments_lexer": "ipython3",
   "version": "3.7.4-final"
  },
  "orig_nbformat": 2,
  "kernelspec": {
   "name": "python3",
   "display_name": "Python 3"
  }
 },
 "nbformat": 4,
 "nbformat_minor": 2
}